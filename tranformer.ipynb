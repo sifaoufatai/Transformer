{
 "cells": [
  {
   "cell_type": "markdown",
   "metadata": {},
   "source": [
    "# Import Librairies \n"
   ]
  },
  {
   "cell_type": "code",
   "execution_count": 44,
   "metadata": {},
   "outputs": [],
   "source": [
    "\n",
    "import torch.nn as nn\n",
    "import torch\n",
    "import torch.nn.functional as F\n",
    "import math,copy,re\n",
    "import warnings\n",
    "import pandas as pd\n",
    "import numpy as np\n",
    "from torch.autograd import Variable\n"
   ]
  },
  {
   "cell_type": "markdown",
   "metadata": {},
   "source": [
    "## Create Word Embdding"
   ]
  },
  {
   "cell_type": "code",
   "execution_count": null,
   "metadata": {},
   "outputs": [],
   "source": [
    "class Embedding (nn.Module):\n",
    "    def __init__(self, vocab_size, embedding_dim):\n",
    "        \"\"\"\n",
    "        Args:\n",
    "            vocab_size: size of the vocabulary. \n",
    "            embedding_dim: size of the word embedding\n",
    "        \"\"\"\n",
    "        super(Embedding, self).__init__()\n",
    "        self.vocab_size = vocab_size\n",
    "        self.embedding_dim = embedding_dim\n",
    "        self.embeddings = nn.Embedding(self.vocab_size, self.embedding_dim)\n",
    "        \n",
    "    def forward(self, x):\n",
    "        \"\"\"\n",
    "        Args:\n",
    "            x: input vector\n",
    "        Returns:        \n",
    "            out: embedded vector\n",
    "        \"\"\"\n",
    "        return self.embeddings(x)\n",
    "    \n",
    "\n",
    "\n",
    "\n",
    "    \n"
   ]
  },
  {
   "cell_type": "markdown",
   "metadata": {},
   "source": [
    "## Positional Encoding\n"
   ]
  },
  {
   "cell_type": "code",
   "execution_count": null,
   "metadata": {},
   "outputs": [],
   "source": [
    "class PositionalEncoding(nn.Module):\n",
    "    def __init__(self, d_model, dropout=0.1, max_seq_len=5000):\n",
    "        super(PositionalEncoding, self).__init__()\n",
    "        pe = torch.zeros(max_seq_len, d_model)\n",
    "        for pos in range(max_seq_len):\n",
    "            for i in range(0, d_model, 2):\n",
    "                pe[pos,i]= math.sin(pos/10000**(i/d_model))\n",
    "                pe[pos,i+1]=math.cos(pos/10000**(i/d_model))\n",
    "        pe = pe.unsqueeze(0)\n",
    "        self.register_buffer('pe', pe)\n",
    "        \n",
    "        def forward(self, x):\n",
    "            # x has dimensions (batch_size, seq_len, d_model)\n",
    "            \n",
    "            # Scale embeddings by the square root of d_model\n",
    "            x = x * math.sqrt(self.d_model)\n",
    "            \n",
    "            # Get the sequence length from the input tensor\n",
    "            seq_len = x.size(1)\n",
    "            \n",
    "            # Add positional encoding to the input tensor\n",
    "            x = x + torch.autograd.Variable(self.pe[:, :seq_len], requires_grad=False)\n",
    "    \n",
    "            return x\n",
    "\n",
    "\n",
    "        "
   ]
  },
  {
   "cell_type": "code",
   "execution_count": 43,
   "metadata": {},
   "outputs": [
    {
     "name": "stdout",
     "output_type": "stream",
     "text": [
      "\n",
      "Tensor 3D original:\n",
      "[[[ 1.8030983  -1.1595311   1.1304315  -0.10533942]\n",
      "  [ 1.0083343   0.47773212 -0.141545    0.6026402 ]\n",
      "  [ 0.23053083  1.3774903  -1.5789098  -0.61902785]]\n",
      "\n",
      " [[-0.05004444  0.28028554 -0.06326415  0.3739637 ]\n",
      "  [-0.5093646  -0.6148853  -0.6047851   2.1334984 ]\n",
      "  [-0.19640008  0.6885371   0.94157475  1.247575  ]]]\n",
      "\n",
      "1ère matrice (indice 0):\n",
      "[[ 1.8030983  -1.1595311   1.1304315  -0.10533942]\n",
      " [ 1.0083343   0.47773212 -0.141545    0.6026402 ]\n",
      " [ 0.23053083  1.3774903  -1.5789098  -0.61902785]]\n",
      "\n",
      "2ème ligne de la 2ème matrice (indice 1):\n",
      "[-0.5093646 -0.6148853 -0.6047851  2.1334984]\n",
      "\n",
      "Élément à l'indice [1, 2, 3]:\n",
      "1.247575\n",
      "[[ 0.23053083  1.3774903  -1.5789098  -0.61902785]\n",
      " [-0.19640008  0.6885371   0.94157475  1.247575  ]]\n"
     ]
    }
   ],
   "source": []
  },
  {
   "cell_type": "code",
   "execution_count": 30,
   "metadata": {},
   "outputs": [
    {
     "name": "stdout",
     "output_type": "stream",
     "text": [
      "[[[1 2 3]\n",
      "  [4 5 6]]]\n",
      "torch.Size([1, 2, 3])\n"
     ]
    }
   ],
   "source": [
    "# Create a tensor\n",
    "tensor = torch.tensor([[1, 2, 3], [4, 5, 6]])\n",
    "tensor= tensor.unsqueeze(0)\n",
    "# Print the tensor\n",
    "print(tensor.cpu().numpy())\n",
    "print(tensor.shape)\n"
   ]
  },
  {
   "cell_type": "code",
   "execution_count": 19,
   "metadata": {},
   "outputs": [
    {
     "name": "stdout",
     "output_type": "stream",
     "text": [
      "Original tensor shape: torch.Size([1, 1, 3])\n",
      "Squeezed tensor shape: torch.Size([3])\n"
     ]
    }
   ],
   "source": [
    "import torch\n",
    "\n",
    "tensor = torch.tensor([[[1, 2, 3]]])  # Shape: (1, 1, 3)\n",
    "print(\"Original tensor shape:\", tensor.shape)\n",
    "\n",
    "squeezed_tensor = tensor.squeeze()\n",
    "print(\"Squeezed tensor shape:\", squeezed_tensor.shape)\n",
    "\n"
   ]
  },
  {
   "cell_type": "code",
   "execution_count": 20,
   "metadata": {},
   "outputs": [
    {
     "name": "stdout",
     "output_type": "stream",
     "text": [
      "Original tensor shape: torch.Size([3])\n",
      "Unsqueezed tensor shape: torch.Size([1, 3])\n"
     ]
    }
   ],
   "source": [
    "tensor = torch.tensor([1, 2, 3])  # Shape: (3,)\n",
    "print(\"Original tensor shape:\", tensor.shape)\n",
    "\n",
    "unsqueezed_tensor = tensor.unsqueeze(0)  # Adds a dimension at the beginning\n",
    "print(\"Unsqueezed tensor shape:\", unsqueezed_tensor.shape)\n"
   ]
  }
 ],
 "metadata": {
  "kernelspec": {
   "display_name": "traitementdelangage",
   "language": "python",
   "name": "python3"
  },
  "language_info": {
   "codemirror_mode": {
    "name": "ipython",
    "version": 3
   },
   "file_extension": ".py",
   "mimetype": "text/x-python",
   "name": "python",
   "nbconvert_exporter": "python",
   "pygments_lexer": "ipython3",
   "version": "3.12.6"
  }
 },
 "nbformat": 4,
 "nbformat_minor": 2
}
